{
  "nbformat": 4,
  "nbformat_minor": 0,
  "metadata": {
    "colab": {
      "provenance": [],
      "authorship_tag": "ABX9TyNuSZAp42P6T8N+/+KaZrMJ",
      "include_colab_link": true
    },
    "kernelspec": {
      "name": "python3",
      "display_name": "Python 3"
    },
    "language_info": {
      "name": "python"
    }
  },
  "cells": [
    {
      "cell_type": "markdown",
      "metadata": {
        "id": "view-in-github",
        "colab_type": "text"
      },
      "source": [
        "<a href=\"https://colab.research.google.com/github/Pramurta/ETL_Banks_Project/blob/main/ETL_Banks_Project.ipynb\" target=\"_parent\"><img src=\"https://colab.research.google.com/assets/colab-badge.svg\" alt=\"Open In Colab\"/></a>"
      ]
    },
    {
      "cell_type": "code",
      "execution_count": 18,
      "metadata": {
        "id": "rVODI9Zeeq0r"
      },
      "outputs": [],
      "source": [
        "from datetime import datetime\n",
        "import pandas as pd\n",
        "import requests\n",
        "from bs4 import BeautifulSoup\n",
        "import sqlite3\n",
        "import numpy as np"
      ]
    },
    {
      "cell_type": "code",
      "source": [
        "def log_progress(message):\n",
        "    now = datetime.now()\n",
        "    formatted_date = now.strftime(\"%Y-%d-%m %H:%M:%S\")\n",
        "    log_line = f\"[{formatted_date}] : {message}\"\n",
        "    with open(\"code_log.txt\",\"a\") as f:\n",
        "        f.write(log_line+\"\\n\")\n"
      ],
      "metadata": {
        "id": "Jy-jMM21exqR"
      },
      "execution_count": 19,
      "outputs": []
    },
    {
      "cell_type": "code",
      "source": [
        "def extract(url, table_attribs):\n",
        "    df = pd.DataFrame(columns=table_attribs)\n",
        "\n",
        "    html_page = requests.get(url).text\n",
        "    soup = BeautifulSoup(html_page, 'html.parser')\n",
        "    table = soup.find_all('table')[0]\n",
        "    tbody = table.find('tbody')\n",
        "    table_rows = tbody.find_all('tr')\n",
        "    for i,row in enumerate(table_rows):\n",
        "        cells = row.find_all(\"td\")\n",
        "        if len(cells) == 3:\n",
        "            market_cap_in_usd = cells[2].get_text(strip=True)\n",
        "            bank_name = cells[1].find_all('a')[-1].get_text(strip=True)\n",
        "            df.loc[len(df)] = [bank_name, market_cap_in_usd]\n",
        "\n",
        "    df[\"MC_USD_Billion\"] = df[\"MC_USD_Billion\"].astype(float)\n",
        "\n",
        "    return df"
      ],
      "metadata": {
        "id": "Hfsg4YFme4t7"
      },
      "execution_count": 20,
      "outputs": []
    },
    {
      "cell_type": "code",
      "source": [
        "def transform(df, csv_path):\n",
        "    exchange_rates_curr_to_usd = pd.read_csv(csv_path)\n",
        "    df[\"MC_GBP_Billion\"] = np.round(df[\"MC_USD_Billion\"]*exchange_rates_curr_to_usd.loc[exchange_rates_curr_to_usd[\"Currency\"]==\"GBP\",\"Rate\"].values[0],2)\n",
        "    df[\"MC_EUR_Billion\"] = np.round(df[\"MC_USD_Billion\"]*exchange_rates_curr_to_usd.loc[exchange_rates_curr_to_usd[\"Currency\"]==\"EUR\",\"Rate\"].values[0],2)\n",
        "    df[\"MC_INR_Billion\"] = np.round(df[\"MC_USD_Billion\"]*exchange_rates_curr_to_usd.loc[exchange_rates_curr_to_usd[\"Currency\"]==\"INR\",\"Rate\"].values[0],2)\n",
        "    return df\n",
        "\n",
        "def load_to_csv(df, output_path):\n",
        "    df.to_csv('Largest_banks_data.csv',index=False)\n",
        "\n",
        "def load_to_db(df, sql_connection, table_name):\n",
        "    df.to_sql(table_name, sql_connection, if_exists='replace', index=False)\n",
        "\n",
        "def run_query(query_statement, sql_connection):\n",
        "    df = pd.read_sql_query(query_statement, sql_connection)\n",
        "    return df"
      ],
      "metadata": {
        "id": "8VSt542Me8wJ"
      },
      "execution_count": 21,
      "outputs": []
    },
    {
      "cell_type": "code",
      "source": [
        "url = \"https://web.archive.org/web/20230908091635/https://en.wikipedia.org/wiki/List_of_largest_banks\"\n",
        "banks_data_csv_path = \"./Largest_banks_data.csv\"\n",
        "exchange_rates_csv_path = \"./exchange_rate.csv\"\n",
        "table_attribs = [\"Name\", \"MC_USD_Billion\"]\n",
        "\n",
        "!wget https://cf-courses-data.s3.us.cloud-object-storage.appdomain.cloud/IBMSkillsNetwork-PY0221EN-Coursera/labs/v2/exchange_rate.csv\n",
        "\n",
        "\n",
        "log_progress(\"Data extraction started\")\n",
        "df = extract(url, table_attribs)\n",
        "log_progress(\"Data extraction ended, data transformation started\")\n",
        "\n",
        "\n",
        "df = transform(df, exchange_rates_csv_path)\n",
        "\n",
        "log_progress(\"Data transformation ended, loading to csv started\")\n",
        "\n",
        "load_to_csv(df, banks_data_csv_path)\n",
        "\n",
        "log_progress(\"Loading to csv ended, sql connection starting to establish\")\n",
        "\n",
        "\n",
        "sql_connection = sqlite3.connect('Banks.db')\n",
        "\n",
        "log_progress(\"sql connection established, loading to db\")\n",
        "\n",
        "\n",
        "load_to_db(df, sql_connection, \"Largest_banks\")\n",
        "\n",
        "log_progress(\"finished loading to db\")\n",
        "\n",
        "\n",
        "log_progress(\"running query SELECT * FROM Largest_banks\")\n",
        "query_result = run_query(\"SELECT * FROM Largest_banks\", sql_connection)\n",
        "\n",
        "log_progress(\"running query SELECT AVG(MC_GBP_Billion) FROM Largest_banks\")\n",
        "query_result = run_query(\"SELECT AVG(MC_GBP_Billion) FROM Largest_banks\", sql_connection)\n",
        "\n",
        "log_progress(\"running query SELECT Name from Largest_banks LIMIT 5\")\n",
        "query_result = run_query(\"SELECT Name from Largest_banks LIMIT 5\", sql_connection)\n",
        "\n",
        "sql_connection.close()"
      ],
      "metadata": {
        "colab": {
          "base_uri": "https://localhost:8080/"
        },
        "id": "awRrHCUTfAS1",
        "outputId": "95bf853f-0785-414f-fc9f-31a28dc7193b"
      },
      "execution_count": 22,
      "outputs": [
        {
          "output_type": "stream",
          "name": "stdout",
          "text": [
            "--2024-07-06 05:27:46--  https://cf-courses-data.s3.us.cloud-object-storage.appdomain.cloud/IBMSkillsNetwork-PY0221EN-Coursera/labs/v2/exchange_rate.csv\n",
            "Resolving cf-courses-data.s3.us.cloud-object-storage.appdomain.cloud (cf-courses-data.s3.us.cloud-object-storage.appdomain.cloud)... 169.63.118.104\n",
            "Connecting to cf-courses-data.s3.us.cloud-object-storage.appdomain.cloud (cf-courses-data.s3.us.cloud-object-storage.appdomain.cloud)|169.63.118.104|:443... connected.\n",
            "HTTP request sent, awaiting response... 200 OK\n",
            "Length: 45 [text/csv]\n",
            "Saving to: ‘exchange_rate.csv’\n",
            "\n",
            "exchange_rate.csv   100%[===================>]      45  --.-KB/s    in 0s      \n",
            "\n",
            "2024-07-06 05:27:46 (12.1 MB/s) - ‘exchange_rate.csv’ saved [45/45]\n",
            "\n"
          ]
        }
      ]
    },
    {
      "cell_type": "code",
      "source": [],
      "metadata": {
        "id": "iaOrf34hg1HU"
      },
      "execution_count": null,
      "outputs": []
    }
  ]
}